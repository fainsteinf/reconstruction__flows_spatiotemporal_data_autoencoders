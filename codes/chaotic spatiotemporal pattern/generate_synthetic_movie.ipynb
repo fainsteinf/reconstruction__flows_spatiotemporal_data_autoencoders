{
 "cells": [
  {
   "cell_type": "markdown",
   "id": "a1a7a372",
   "metadata": {},
   "source": [
    "**Code for Paper \"The reconstruction of flows from spatiotemporal data by autoencoders\"**\n",
    "\n",
    "Facundo Fainstein (1,2), Josefina Catoni (1), Coen Elemans (3) and Gabriel B. Mindlin (1,2,4)* \n",
    "\n",
    "(1) Universidad de Buenos Aires, Facultad de Ciencias Exactas y Naturales, Departamento de Física, Ciudad Universitaria, 1428 Buenos Aires, Argentina.\n",
    "\n",
    "(2) CONICET - Universidad de Buenos Aires, Instituto de Física Interdisciplinaria y Aplicada (INFINA), Ciudad Universitaria, 1428 Buenos Aires, Argentina.\n",
    "\n",
    "(3) Department of Biology, University of Southern Denmark, 5230 Odense M, Denmark.\n",
    "\n",
    "(4) Universidad Rey Juan Carlos, Departamento de Matemática Aplicada, Madrid, Spain. \n",
    "\n",
    "*Gabriel B. Mindlin (corresponding author)\n",
    "Email: gabo@df.uba.ar\n",
    "\n",
    "**Generate a synthetic chaotic spatiotemporal pattern**"
   ]
  },
  {
   "cell_type": "code",
   "execution_count": null,
   "id": "d0d27fe6",
   "metadata": {
    "id": "d0d27fe6"
   },
   "outputs": [],
   "source": [
    "import numpy as np\n",
    "import matplotlib.pyplot as plt\n",
    "from mpl_toolkits.mplot3d import Axes3D\n",
    "# %matplotlib notebook"
   ]
  },
  {
   "cell_type": "markdown",
   "id": "de8aaa09",
   "metadata": {
    "id": "de8aaa09"
   },
   "source": [
    "**Integrate Lorenz63**"
   ]
  },
  {
   "cell_type": "code",
   "execution_count": null,
   "id": "bb4f27bf",
   "metadata": {
    "id": "bb4f27bf"
   },
   "outputs": [],
   "source": [
    "#RK4  \n",
    "def rk4(dxdt, x, t, dt, *args, **kwargs):\n",
    "    x = np.asarray(x)\n",
    "    k1 = np.asarray(dxdt(x, t, *args, **kwargs))*dt\n",
    "    k2 = np.asarray(dxdt(x + k1*0.5, t, *args, **kwargs))*dt\n",
    "    k3 = np.asarray(dxdt(x + k2*0.5, t, *args, **kwargs))*dt\n",
    "    k4 = np.asarray(dxdt(x + k3, t, *args, **kwargs))*dt\n",
    "    return x + (k1 + 2*k2 + 2*k3 + k4)/6\n",
    "\n",
    "#Vector field\n",
    "def f(v, t):\n",
    "    sigma, beta, rho =10, 8/3 , 28\n",
    "\n",
    "    x,y, z = v[0],v[1],v[2]\n",
    "\n",
    "    dxdt = sigma * (y - x)\n",
    "    dydt = x * (rho - z) - y\n",
    "    dzdt = x*y - beta * z \n",
    "\n",
    "    return [dxdt, dydt, dzdt]\n",
    "\n",
    "dt = 0.01\n",
    "time = np.arange(0, 160, dt)\n",
    "x = np.zeros_like(time)\n",
    "y = np.zeros_like(time)\n",
    "z = np.zeros_like(time)\n",
    "\n",
    "#initial condition\n",
    "x_0, y_0, z_0 = 0.1, 0.1, 0.1\n",
    "x[0] = x_0\n",
    "y[0] = y_0\n",
    "z[0] = z_0\n",
    "\n",
    "\n",
    "for ix, tt in enumerate(time[:-1]):\n",
    "    x[ix+1], y[ix+1], z[ix+1] = rk4(f, [x[ix], y[ix], z[ix]], tt, dt)\n",
    "    \n",
    "x = x[int(10/dt):]\n",
    "y = y[int(10/dt):]\n",
    "z = z[int(10/dt):]\n",
    "time = time[int(10/dt):] - time[int(10/dt)]"
   ]
  },
  {
   "cell_type": "markdown",
   "id": "fd3586d7",
   "metadata": {
    "id": "fd3586d7"
   },
   "source": [
    "**Create the spatial modes**"
   ]
  },
  {
   "cell_type": "code",
   "execution_count": null,
   "id": "b39664ea",
   "metadata": {
    "id": "b39664ea"
   },
   "outputs": [],
   "source": [
    "#create modes\n",
    "X =  np.linspace(0, 1, 40)\n",
    "Z = np.linspace(0, 1, 40)\n",
    "X, Z = np.meshgrid(X, Z)\n",
    "\n",
    "a = 1 #1 \n",
    "\n",
    "Mode_1 = 1 * np.cos(np.pi * a * X) * np.sin(np.pi * Z) \n",
    "Mode_2 = 1 * np.sin(2 * np.pi * Z)\n",
    "\n",
    "#plot modes\n",
    "fig = plt.figure()\n",
    "ax = fig.add_subplot(1,1,1, projection='3d')\n",
    "surf1 = ax.plot_surface(X, Z, Mode_1, alpha=.5)\n",
    "ax.set_xlabel(\"x\")\n",
    "ax.set_ylabel(\"z\")\n",
    "ax.set_zlabel(r\"$\\theta$\", rotation=90)\n",
    "plt.show()\n",
    "\n",
    "fig = plt.figure()\n",
    "ax = fig.add_subplot(1,1,1, projection='3d')\n",
    "surf2 = ax.plot_surface(X, Z, Mode_2, alpha=.5)\n",
    "ax.set_xlabel(\"x\")\n",
    "ax.set_ylabel(\"z\")\n",
    "ax.set_zlabel(r\"$\\theta$\", rotation=90)\n",
    "plt.show()\n"
   ]
  },
  {
   "cell_type": "markdown",
   "id": "bc220566",
   "metadata": {
    "id": "bc220566"
   },
   "source": [
    "**Generate synthetic movie**"
   ]
  },
  {
   "cell_type": "code",
   "execution_count": null,
   "id": "1deb2bd7",
   "metadata": {},
   "outputs": [],
   "source": [
    "ims = []\n",
    "\n",
    "for k in range(len(x)):\n",
    "    ims.append( (y[k]/20) * Mode_1 - (z[k]/40) * Mode_2  + np.random.normal(0, .01, (40, 40)) )    \n",
    "    \n",
    "ims = np.array(ims)"
   ]
  },
  {
   "cell_type": "code",
   "execution_count": null,
   "id": "343eb187",
   "metadata": {},
   "outputs": [],
   "source": [
    "#Plot five frames\n",
    "fig, ax = plt.subplots(1, 5, figsize=(5*2, 2))\n",
    "for k in range(5):\n",
    "    ax[k].imshow(ims[k*10])\n",
    "    ax[k].set_xticks([])\n",
    "    ax[k].set_yticks([])"
   ]
  }
 ],
 "metadata": {
  "colab": {
   "provenance": []
  },
  "kernelspec": {
   "display_name": "Python 3 (ipykernel)",
   "language": "python",
   "name": "python3"
  },
  "language_info": {
   "codemirror_mode": {
    "name": "ipython",
    "version": 3
   },
   "file_extension": ".py",
   "mimetype": "text/x-python",
   "name": "python",
   "nbconvert_exporter": "python",
   "pygments_lexer": "ipython3",
   "version": "3.9.13"
  }
 },
 "nbformat": 4,
 "nbformat_minor": 5
}
